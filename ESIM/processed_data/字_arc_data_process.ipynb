{
 "cells": [
  {
   "cell_type": "code",
   "execution_count": 1,
   "metadata": {},
   "outputs": [],
   "source": [
    "import numpy as np\n",
    "import pandas as pd\n",
    "import pickle\n",
    "import jieba\n",
    "import json\n",
    "import re "
   ]
  },
  {
   "cell_type": "code",
   "execution_count": 2,
   "metadata": {},
   "outputs": [],
   "source": [
    "train_data_path = '../data/atec_nlp_sim_train.csv'  # 训练数据\n",
    "train_add_data_path = '../data/atec_nlp_sim_train_add.csv'  # 添加训练数据\n",
    "stop_words_path = '../data/stop_words.txt'  # 停用词路径\n",
    "tokenize_dict_path = '../data/dict_all.txt'  # jieba分词新自定义字典\n",
    "spelling_corrections_path = '../data/spelling_corrections.json'"
   ]
  },
  {
   "cell_type": "code",
   "execution_count": 3,
   "metadata": {},
   "outputs": [],
   "source": [
    "train_data_df = pd.read_csv(train_data_path, sep='\\t', header=None,names=[\"index\", \"s1\", \"s2\", \"label\"])\n",
    "train_add_data_df = pd.read_csv(train_add_data_path, sep='\\t', header=None, names=[\"index\", \"s1\", \"s2\", \"label\"])\n",
    "train_all = pd.concat([train_data_df, train_add_data_df])"
   ]
  },
  {
   "cell_type": "code",
   "execution_count": 4,
   "metadata": {},
   "outputs": [],
   "source": [
    "train_all = train_all.sample(frac=1).reset_index(drop=True)"
   ]
  },
  {
   "cell_type": "code",
   "execution_count": 5,
   "metadata": {},
   "outputs": [
    {
     "data": {
      "text/html": [
       "<div>\n",
       "<style scoped>\n",
       "    .dataframe tbody tr th:only-of-type {\n",
       "        vertical-align: middle;\n",
       "    }\n",
       "\n",
       "    .dataframe tbody tr th {\n",
       "        vertical-align: top;\n",
       "    }\n",
       "\n",
       "    .dataframe thead th {\n",
       "        text-align: right;\n",
       "    }\n",
       "</style>\n",
       "<table border=\"1\" class=\"dataframe\">\n",
       "  <thead>\n",
       "    <tr style=\"text-align: right;\">\n",
       "      <th></th>\n",
       "      <th>index</th>\n",
       "      <th>s1</th>\n",
       "      <th>s2</th>\n",
       "      <th>label</th>\n",
       "    </tr>\n",
       "  </thead>\n",
       "  <tbody>\n",
       "    <tr>\n",
       "      <th>0</th>\n",
       "      <td>30241</td>\n",
       "      <td>借呗可以升级网商贷吧</td>\n",
       "      <td>我的网商贷可以换回蚂蚁借呗吗</td>\n",
       "      <td>0</td>\n",
       "    </tr>\n",
       "    <tr>\n",
       "      <th>1</th>\n",
       "      <td>10179</td>\n",
       "      <td>为什么我的借呗被停用了？我又没失约</td>\n",
       "      <td>为什么这个月不用借呗就挨停了</td>\n",
       "      <td>0</td>\n",
       "    </tr>\n",
       "    <tr>\n",
       "      <th>2</th>\n",
       "      <td>34382</td>\n",
       "      <td>为什么我开通了花呗，却不能付款，显示该商户不支持花呗付款</td>\n",
       "      <td>已经开通了花呗支持付款，但是付款显示不支持，是怎么回事</td>\n",
       "      <td>0</td>\n",
       "    </tr>\n",
       "    <tr>\n",
       "      <th>3</th>\n",
       "      <td>51574</td>\n",
       "      <td>花呗退款为什么花呗账单不便</td>\n",
       "      <td>花呗退款单为何还需要还款</td>\n",
       "      <td>0</td>\n",
       "    </tr>\n",
       "    <tr>\n",
       "      <th>4</th>\n",
       "      <td>3210</td>\n",
       "      <td>反复试过，没有花呗</td>\n",
       "      <td>我从来没弄过花呗</td>\n",
       "      <td>0</td>\n",
       "    </tr>\n",
       "  </tbody>\n",
       "</table>\n",
       "</div>"
      ],
      "text/plain": [
       "   index                            s1                           s2  label\n",
       "0  30241                    借呗可以升级网商贷吧               我的网商贷可以换回蚂蚁借呗吗      0\n",
       "1  10179             为什么我的借呗被停用了？我又没失约               为什么这个月不用借呗就挨停了      0\n",
       "2  34382  为什么我开通了花呗，却不能付款，显示该商户不支持花呗付款  已经开通了花呗支持付款，但是付款显示不支持，是怎么回事      0\n",
       "3  51574                 花呗退款为什么花呗账单不便                 花呗退款单为何还需要还款      0\n",
       "4   3210                     反复试过，没有花呗                     我从来没弄过花呗      0"
      ]
     },
     "execution_count": 5,
     "metadata": {},
     "output_type": "execute_result"
    }
   ],
   "source": [
    "train_all.head()"
   ]
  },
  {
   "cell_type": "markdown",
   "metadata": {},
   "source": [
    "### 分词及处理"
   ]
  },
  {
   "cell_type": "code",
   "execution_count": 6,
   "metadata": {},
   "outputs": [],
   "source": [
    "# 停用词表\n",
    "stopwords = [line.strip() for line in open(stop_words_path, 'r', encoding='utf-8').readlines()]"
   ]
  },
  {
   "cell_type": "code",
   "execution_count": 7,
   "metadata": {},
   "outputs": [],
   "source": [
    "# 拼错词替换表\n",
    "with open(spelling_corrections_path,\"r\",encoding=\"utf-8\") as file:\n",
    "    spelling_corrections = json.load(file)"
   ]
  },
  {
   "cell_type": "code",
   "execution_count": 8,
   "metadata": {},
   "outputs": [],
   "source": [
    "def transform_other_word(str_text,reg_dict):\n",
    "    \"\"\"\n",
    "    替换词\n",
    "    :param str_text:待替换的句子\n",
    "    :param reg_dict:替换词字典\n",
    "    :return:\n",
    "    \"\"\"\n",
    "    for token_str,replac_str in reg_dict.items():\n",
    "        str_text = str_text.replace(token_str, replac_str)\n",
    "    return str_text"
   ]
  },
  {
   "cell_type": "code",
   "execution_count": 9,
   "metadata": {},
   "outputs": [],
   "source": [
    "def preprocessing_char(s1_train, s2_train, stopwords, spelling_corrections):\n",
    "\n",
    "    # 去除句子中的脱敏数字***，替换成一\n",
    "    re_object = re.compile(r'\\*+')\n",
    "\n",
    "    s1_all = []\n",
    "    s2_all = []\n",
    "    all = []\n",
    "    for s1_, s2_ in zip(s1_train, s2_train):\n",
    "        s1 = re_object.sub(u\"十一\", s1_)\n",
    "        s2 = re_object.sub(u\"十一\", s2_)\n",
    "        spell_corr_s1 = transform_other_word(s1, spelling_corrections)\n",
    "        spell_corr_s2 = transform_other_word(s2, spelling_corrections)\n",
    "        spell_corr_s1 = list(spell_corr_s1)\n",
    "        spell_corr_s2 = list(spell_corr_s2)\n",
    "        \n",
    "        all.extend(spell_corr_s1)\n",
    "        all.extend(spell_corr_s2)\n",
    "        split_s1 = [i for i in spell_corr_s1 if i not in stopwords and i.strip() != '']\n",
    "        split_s2 = [i for i in spell_corr_s2 if i not in stopwords and i.strip() != '']\n",
    "\n",
    "        s1_all.append(split_s1)\n",
    "        s2_all.append(split_s2)\n",
    "    source_list = []\n",
    "    # source_list = list(set(all))\n",
    "    source_list.append('<UNK>')\n",
    "    source_list.append('<PAD>')\n",
    "    source_list.extend(list(set(all)))\n",
    "    char2id = {}\n",
    "    id2char = {}\n",
    "    for index, char in enumerate(source_list):\n",
    "        char2id[char] = index\n",
    "        id2char[index] = char\n",
    "\n",
    "    return s1_all, s2_all, char2id, id2char"
   ]
  },
  {
   "cell_type": "code",
   "execution_count": 10,
   "metadata": {},
   "outputs": [],
   "source": [
    "s1_train = train_all[\"s1\"].tolist()\n",
    "s2_train = train_all[\"s2\"].tolist()\n",
    "y_train = train_all[\"label\"].tolist()"
   ]
  },
  {
   "cell_type": "markdown",
   "metadata": {},
   "source": [
    "#### 获取对应的词表及词与id的映射"
   ]
  },
  {
   "cell_type": "code",
   "execution_count": 11,
   "metadata": {},
   "outputs": [],
   "source": [
    "s1_char_all, s2_char_all, char2id, id2char = preprocessing_char(s1_train, s2_train, stopwords, spelling_corrections)"
   ]
  },
  {
   "cell_type": "code",
   "execution_count": 12,
   "metadata": {},
   "outputs": [],
   "source": [
    "def make_word2id(data, word2id):\n",
    "    data2id = []\n",
    "    for word_list in data:\n",
    "        id_list = [word2id.get(i) if word2id.get(i) is not None else word2id.get('<PAD>') for i in word_list]\n",
    "        data2id.append(id_list)\n",
    "    return data2id"
   ]
  },
  {
   "cell_type": "code",
   "execution_count": 13,
   "metadata": {},
   "outputs": [],
   "source": [
    "def all_data_set(s1_all, s2_all, word2id, y_train, max_l=20):\n",
    "    pad = word2id['<PAD>']\n",
    "    all_data = []\n",
    "    s1_data_id = make_word2id(s1_all, word2id)\n",
    "    s2_data_id = make_word2id(s2_all, word2id)\n",
    "    s1_all_new = []\n",
    "    s2_all_new = []\n",
    "    y = []\n",
    "    for i in range(len(s1_data_id)):\n",
    "        if len(s1_data_id[i]) > max_l:\n",
    "            s1_set = s1_data_id[i][:max_l]\n",
    "        else:\n",
    "            s1_set = np.concatenate((s1_data_id[i], np.tile(pad, max_l - len(s1_data_id[i]))), axis=0)\n",
    "        if len(s2_data_id[i]) > max_l:\n",
    "            s2_set = s2_data_id[i][:max_l]\n",
    "        else:\n",
    "            s2_set = np.concatenate((s2_data_id[i], np.tile(pad, max_l - len(s2_data_id[i]))), axis=0)\n",
    "        y_set = [1,0] if y_train[i] == 0 else [0,1]\n",
    "        s1_all_new.append(s1_set)\n",
    "        s2_all_new.append(s2_set)\n",
    "        y.append(y_set)\n",
    "    return s1_all_new, s2_all_new, y"
   ]
  },
  {
   "cell_type": "markdown",
   "metadata": {},
   "source": [
    "#### 获取id形式表示的文本特征"
   ]
  },
  {
   "cell_type": "code",
   "execution_count": 14,
   "metadata": {},
   "outputs": [],
   "source": [
    "s1_char_id_all, s2_char_id_all, y_set = all_data_set(s1_char_all, s2_char_all, char2id, y_train, max_l=20)"
   ]
  },
  {
   "cell_type": "code",
   "execution_count": 15,
   "metadata": {},
   "outputs": [],
   "source": [
    "train_all[\"s1_char_all\"] = s1_char_all"
   ]
  },
  {
   "cell_type": "code",
   "execution_count": 16,
   "metadata": {},
   "outputs": [],
   "source": [
    "train_all[\"s2_char_all\"] = s2_char_all"
   ]
  },
  {
   "cell_type": "code",
   "execution_count": 17,
   "metadata": {},
   "outputs": [],
   "source": [
    "train_all[\"s1_char_id_all\"] = s1_char_id_all"
   ]
  },
  {
   "cell_type": "code",
   "execution_count": 18,
   "metadata": {},
   "outputs": [],
   "source": [
    "train_all[\"s2_char_id_all\"] = s2_char_id_all"
   ]
  },
  {
   "cell_type": "code",
   "execution_count": 19,
   "metadata": {},
   "outputs": [],
   "source": [
    "train_all[\"y_set\"] = y_set"
   ]
  },
  {
   "cell_type": "code",
   "execution_count": 20,
   "metadata": {},
   "outputs": [
    {
     "data": {
      "text/html": [
       "<div>\n",
       "<style scoped>\n",
       "    .dataframe tbody tr th:only-of-type {\n",
       "        vertical-align: middle;\n",
       "    }\n",
       "\n",
       "    .dataframe tbody tr th {\n",
       "        vertical-align: top;\n",
       "    }\n",
       "\n",
       "    .dataframe thead th {\n",
       "        text-align: right;\n",
       "    }\n",
       "</style>\n",
       "<table border=\"1\" class=\"dataframe\">\n",
       "  <thead>\n",
       "    <tr style=\"text-align: right;\">\n",
       "      <th></th>\n",
       "      <th>index</th>\n",
       "      <th>s1</th>\n",
       "      <th>s2</th>\n",
       "      <th>label</th>\n",
       "      <th>s1_char_all</th>\n",
       "      <th>s2_char_all</th>\n",
       "      <th>s1_char_id_all</th>\n",
       "      <th>s2_char_id_all</th>\n",
       "      <th>y_set</th>\n",
       "    </tr>\n",
       "  </thead>\n",
       "  <tbody>\n",
       "    <tr>\n",
       "      <th>0</th>\n",
       "      <td>1</td>\n",
       "      <td>﻿怎么更改花呗手机号码</td>\n",
       "      <td>我的花呗是以前的手机号码，怎么更改成现在的支付宝的号码手机号</td>\n",
       "      <td>1</td>\n",
       "      <td>[﻿, 怎, 更, 换, 花, 手, 机, 号, 码]</td>\n",
       "      <td>[花, 是, 以, 前, 手, 机, 号, 码, 怎, 更, 换, 成, 现, 支, 付, ...</td>\n",
       "      <td>[2073, 523, 1724, 1326, 1974, 1718, 1556, 286,...</td>\n",
       "      <td>[1974, 1930, 1699, 1696, 1718, 1556, 286, 1795...</td>\n",
       "      <td>[0, 1]</td>\n",
       "    </tr>\n",
       "    <tr>\n",
       "      <th>1</th>\n",
       "      <td>2</td>\n",
       "      <td>也开不了花呗，就这样了？完事了</td>\n",
       "      <td>真的嘛？就是花呗付款</td>\n",
       "      <td>0</td>\n",
       "      <td>[开, 不, 花, 样, 完, 事]</td>\n",
       "      <td>[真, 是, 花, 付, 款]</td>\n",
       "      <td>[811, 1819, 1974, 929, 1863, 877, 1, 1, 1, 1, ...</td>\n",
       "      <td>[1150, 1930, 1974, 2144, 1169, 1, 1, 1, 1, 1, ...</td>\n",
       "      <td>[1, 0]</td>\n",
       "    </tr>\n",
       "    <tr>\n",
       "      <th>2</th>\n",
       "      <td>3</td>\n",
       "      <td>花呗冻结以后还能开通吗</td>\n",
       "      <td>我的条件可以开通花呗借款吗</td>\n",
       "      <td>0</td>\n",
       "      <td>[花, 冻, 结, 以, 能, 开, 通]</td>\n",
       "      <td>[条, 件, 可, 以, 开, 通, 花, 借, 款]</td>\n",
       "      <td>[1974, 565, 73, 1699, 369, 811, 1342, 1, 1, 1,...</td>\n",
       "      <td>[1535, 1106, 1173, 1699, 811, 1342, 1974, 1731...</td>\n",
       "      <td>[1, 0]</td>\n",
       "    </tr>\n",
       "    <tr>\n",
       "      <th>3</th>\n",
       "      <td>4</td>\n",
       "      <td>如何得知关闭借呗</td>\n",
       "      <td>想永久关闭借呗</td>\n",
       "      <td>0</td>\n",
       "      <td>[如, 何, 得, 知, 关, 借]</td>\n",
       "      <td>[永, 久, 关, 借]</td>\n",
       "      <td>[543, 1584, 964, 550, 1776, 1731, 1, 1, 1, 1, ...</td>\n",
       "      <td>[435, 93, 1776, 1731, 1, 1, 1, 1, 1, 1, 1, 1, ...</td>\n",
       "      <td>[1, 0]</td>\n",
       "    </tr>\n",
       "    <tr>\n",
       "      <th>4</th>\n",
       "      <td>5</td>\n",
       "      <td>花呗扫码付钱</td>\n",
       "      <td>二维码扫描可以用花呗吗</td>\n",
       "      <td>0</td>\n",
       "      <td>[花, 扫, 码, 付, 钱]</td>\n",
       "      <td>[二, 维, 码, 扫, 描, 可, 以, 用, 花]</td>\n",
       "      <td>[1974, 300, 1795, 2144, 317, 1, 1, 1, 1, 1, 1,...</td>\n",
       "      <td>[1860, 1663, 1795, 300, 983, 1173, 1699, 514, ...</td>\n",
       "      <td>[1, 0]</td>\n",
       "    </tr>\n",
       "  </tbody>\n",
       "</table>\n",
       "</div>"
      ],
      "text/plain": [
       "   index               s1                              s2  label  \\\n",
       "0      1      ﻿怎么更改花呗手机号码  我的花呗是以前的手机号码，怎么更改成现在的支付宝的号码手机号      1   \n",
       "1      2  也开不了花呗，就这样了？完事了                      真的嘛？就是花呗付款      0   \n",
       "2      3      花呗冻结以后还能开通吗                   我的条件可以开通花呗借款吗      0   \n",
       "3      4         如何得知关闭借呗                         想永久关闭借呗      0   \n",
       "4      5           花呗扫码付钱                     二维码扫描可以用花呗吗      0   \n",
       "\n",
       "                   s1_char_all  \\\n",
       "0  [﻿, 怎, 更, 换, 花, 手, 机, 号, 码]   \n",
       "1           [开, 不, 花, 样, 完, 事]   \n",
       "2        [花, 冻, 结, 以, 能, 开, 通]   \n",
       "3           [如, 何, 得, 知, 关, 借]   \n",
       "4              [花, 扫, 码, 付, 钱]   \n",
       "\n",
       "                                         s2_char_all  \\\n",
       "0  [花, 是, 以, 前, 手, 机, 号, 码, 怎, 更, 换, 成, 现, 支, 付, ...   \n",
       "1                                    [真, 是, 花, 付, 款]   \n",
       "2                        [条, 件, 可, 以, 开, 通, 花, 借, 款]   \n",
       "3                                       [永, 久, 关, 借]   \n",
       "4                        [二, 维, 码, 扫, 描, 可, 以, 用, 花]   \n",
       "\n",
       "                                      s1_char_id_all  \\\n",
       "0  [2073, 523, 1724, 1326, 1974, 1718, 1556, 286,...   \n",
       "1  [811, 1819, 1974, 929, 1863, 877, 1, 1, 1, 1, ...   \n",
       "2  [1974, 565, 73, 1699, 369, 811, 1342, 1, 1, 1,...   \n",
       "3  [543, 1584, 964, 550, 1776, 1731, 1, 1, 1, 1, ...   \n",
       "4  [1974, 300, 1795, 2144, 317, 1, 1, 1, 1, 1, 1,...   \n",
       "\n",
       "                                      s2_char_id_all   y_set  \n",
       "0  [1974, 1930, 1699, 1696, 1718, 1556, 286, 1795...  [0, 1]  \n",
       "1  [1150, 1930, 1974, 2144, 1169, 1, 1, 1, 1, 1, ...  [1, 0]  \n",
       "2  [1535, 1106, 1173, 1699, 811, 1342, 1974, 1731...  [1, 0]  \n",
       "3  [435, 93, 1776, 1731, 1, 1, 1, 1, 1, 1, 1, 1, ...  [1, 0]  \n",
       "4  [1860, 1663, 1795, 300, 983, 1173, 1699, 514, ...  [1, 0]  "
      ]
     },
     "execution_count": 20,
     "metadata": {},
     "output_type": "execute_result"
    }
   ],
   "source": [
    "train_all.head()"
   ]
  },
  {
   "cell_type": "code",
   "execution_count": 21,
   "metadata": {},
   "outputs": [],
   "source": [
    "all_data = []\n",
    "for i in range(len(s1_char_id_all)):\n",
    "    one_feature_map = []\n",
    "    left_input_one = s1_char_id_all[i]\n",
    "    right_input_one = s2_char_id_all[i]\n",
    "    for j in range(18):\n",
    "        left_rows = left_input_one[j:j + 3]\n",
    "        for k in range(18):\n",
    "            right_rows = right_input_one[k:k + 3]\n",
    "            one_feature_map.extend(left_rows)\n",
    "            one_feature_map.extend(right_rows)\n",
    "    all_data.append([one_feature_map,y_set[i]])"
   ]
  },
  {
   "cell_type": "code",
   "execution_count": 8,
   "metadata": {},
   "outputs": [
    {
     "data": {
      "text/plain": [
       "1944"
      ]
     },
     "execution_count": 8,
     "metadata": {},
     "output_type": "execute_result"
    }
   ],
   "source": [
    "18*18*6"
   ]
  },
  {
   "cell_type": "code",
   "execution_count": 36,
   "metadata": {},
   "outputs": [
    {
     "data": {
      "text/plain": [
       "1944"
      ]
     },
     "execution_count": 36,
     "metadata": {},
     "output_type": "execute_result"
    }
   ],
   "source": [
    "len(all_data[0][0])"
   ]
  },
  {
   "cell_type": "code",
   "execution_count": 22,
   "metadata": {
    "scrolled": true
   },
   "outputs": [
    {
     "data": {
      "text/plain": [
       "102477"
      ]
     },
     "execution_count": 22,
     "metadata": {},
     "output_type": "execute_result"
    }
   ],
   "source": [
    "len(all_data)"
   ]
  },
  {
   "cell_type": "code",
   "execution_count": 37,
   "metadata": {},
   "outputs": [],
   "source": [
    "# 将数据存入pickle中\n",
    "with open(\"char_arc_data.pk\", 'wb') as f1:\n",
    "    pickle.dump((all_data[:5000],char2id,id2char), f1)"
   ]
  },
  {
   "cell_type": "code",
   "execution_count": null,
   "metadata": {},
   "outputs": [],
   "source": []
  },
  {
   "cell_type": "code",
   "execution_count": null,
   "metadata": {},
   "outputs": [],
   "source": []
  },
  {
   "cell_type": "code",
   "execution_count": null,
   "metadata": {},
   "outputs": [],
   "source": []
  }
 ],
 "metadata": {
  "kernelspec": {
   "display_name": "Python 3",
   "language": "python",
   "name": "python3"
  },
  "language_info": {
   "codemirror_mode": {
    "name": "ipython",
    "version": 3
   },
   "file_extension": ".py",
   "mimetype": "text/x-python",
   "name": "python",
   "nbconvert_exporter": "python",
   "pygments_lexer": "ipython3",
   "version": "3.7.3"
  }
 },
 "nbformat": 4,
 "nbformat_minor": 2
}
