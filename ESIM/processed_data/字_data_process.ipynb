{
 "cells": [
  {
   "cell_type": "code",
   "execution_count": 1,
   "metadata": {},
   "outputs": [],
   "source": [
    "import numpy as np\n",
    "import pandas as pd\n",
    "import pickle\n",
    "import jieba\n",
    "import json\n",
    "import re "
   ]
  },
  {
   "cell_type": "code",
   "execution_count": 2,
   "metadata": {},
   "outputs": [],
   "source": [
    "train_data_path = '../data/atec_nlp_sim_train.csv'  # 训练数据\n",
    "train_add_data_path = '../data/atec_nlp_sim_train_add.csv'  # 添加训练数据\n",
    "stop_words_path = '../data/stop_words.txt'  # 停用词路径\n",
    "tokenize_dict_path = '../data/dict_all.txt'  # jieba分词新自定义字典\n",
    "spelling_corrections_path = '../data/spelling_corrections.json'"
   ]
  },
  {
   "cell_type": "code",
   "execution_count": 3,
   "metadata": {},
   "outputs": [],
   "source": [
    "train_data_df = pd.read_csv(train_data_path, sep='\\t', header=None,names=[\"index\", \"s1\", \"s2\", \"label\"])\n",
    "train_add_data_df = pd.read_csv(train_add_data_path, sep='\\t', header=None, names=[\"index\", \"s1\", \"s2\", \"label\"])\n",
    "train_all = pd.concat([train_data_df, train_add_data_df])"
   ]
  },
  {
   "cell_type": "code",
   "execution_count": 6,
   "metadata": {},
   "outputs": [],
   "source": [
    "train_all = train_all.sample(frac=1).reset_index(drop=True)"
   ]
  },
  {
   "cell_type": "code",
   "execution_count": 7,
   "metadata": {
    "scrolled": false
   },
   "outputs": [
    {
     "data": {
      "text/html": [
       "<div>\n",
       "<style scoped>\n",
       "    .dataframe tbody tr th:only-of-type {\n",
       "        vertical-align: middle;\n",
       "    }\n",
       "\n",
       "    .dataframe tbody tr th {\n",
       "        vertical-align: top;\n",
       "    }\n",
       "\n",
       "    .dataframe thead th {\n",
       "        text-align: right;\n",
       "    }\n",
       "</style>\n",
       "<table border=\"1\" class=\"dataframe\">\n",
       "  <thead>\n",
       "    <tr style=\"text-align: right;\">\n",
       "      <th></th>\n",
       "      <th>index</th>\n",
       "      <th>s1</th>\n",
       "      <th>s2</th>\n",
       "      <th>label</th>\n",
       "    </tr>\n",
       "  </thead>\n",
       "  <tbody>\n",
       "    <tr>\n",
       "      <th>0</th>\n",
       "      <td>31668</td>\n",
       "      <td>借呗借钱三个月每个月都要还吗</td>\n",
       "      <td>蚂蚁借呗干嘛都是每月二十号还</td>\n",
       "      <td>0</td>\n",
       "    </tr>\n",
       "    <tr>\n",
       "      <th>1</th>\n",
       "      <td>41666</td>\n",
       "      <td>使用花呗购物，自动全额付款会产生费用吗</td>\n",
       "      <td>花呗付款当时就退款了会产生费用吗</td>\n",
       "      <td>0</td>\n",
       "    </tr>\n",
       "    <tr>\n",
       "      <th>2</th>\n",
       "      <td>26291</td>\n",
       "      <td>提前还借呗，借呗会关闭吗</td>\n",
       "      <td>蚂蚁借呗有额度会关闭吗</td>\n",
       "      <td>0</td>\n",
       "    </tr>\n",
       "    <tr>\n",
       "      <th>3</th>\n",
       "      <td>29187</td>\n",
       "      <td>花呗收款从哪里上传证件</td>\n",
       "      <td>哪里上传证件信息申请花呗收款</td>\n",
       "      <td>1</td>\n",
       "    </tr>\n",
       "    <tr>\n",
       "      <th>4</th>\n",
       "      <td>25416</td>\n",
       "      <td>我的退货款退回了花呗，可是花呗的钱我已经还过了。退回的钱去了哪里</td>\n",
       "      <td>我花呗钱还掉了 然后有退款退到花呗 现在钱去哪了呀</td>\n",
       "      <td>1</td>\n",
       "    </tr>\n",
       "  </tbody>\n",
       "</table>\n",
       "</div>"
      ],
      "text/plain": [
       "   index                                s1                         s2  label\n",
       "0  31668                    借呗借钱三个月每个月都要还吗             蚂蚁借呗干嘛都是每月二十号还      0\n",
       "1  41666               使用花呗购物，自动全额付款会产生费用吗           花呗付款当时就退款了会产生费用吗      0\n",
       "2  26291                      提前还借呗，借呗会关闭吗                蚂蚁借呗有额度会关闭吗      0\n",
       "3  29187                       花呗收款从哪里上传证件             哪里上传证件信息申请花呗收款      1\n",
       "4  25416  我的退货款退回了花呗，可是花呗的钱我已经还过了。退回的钱去了哪里  我花呗钱还掉了 然后有退款退到花呗 现在钱去哪了呀      1"
      ]
     },
     "execution_count": 7,
     "metadata": {},
     "output_type": "execute_result"
    }
   ],
   "source": [
    "train_all.head()"
   ]
  },
  {
   "cell_type": "markdown",
   "metadata": {},
   "source": [
    "### 分词及处理"
   ]
  },
  {
   "cell_type": "code",
   "execution_count": 8,
   "metadata": {},
   "outputs": [],
   "source": [
    "# 停用词表\n",
    "stopwords = [line.strip() for line in open(stop_words_path, 'r', encoding='utf-8').readlines()]"
   ]
  },
  {
   "cell_type": "code",
   "execution_count": 9,
   "metadata": {},
   "outputs": [],
   "source": [
    "# 拼错词替换表\n",
    "with open(spelling_corrections_path,\"r\",encoding=\"utf-8\") as file:\n",
    "    spelling_corrections = json.load(file)"
   ]
  },
  {
   "cell_type": "code",
   "execution_count": 10,
   "metadata": {},
   "outputs": [],
   "source": [
    "def transform_other_word(str_text,reg_dict):\n",
    "    \"\"\"\n",
    "    替换词\n",
    "    :param str_text:待替换的句子\n",
    "    :param reg_dict:替换词字典\n",
    "    :return:\n",
    "    \"\"\"\n",
    "    for token_str,replac_str in reg_dict.items():\n",
    "        str_text = str_text.replace(token_str, replac_str)\n",
    "    return str_text"
   ]
  },
  {
   "cell_type": "code",
   "execution_count": 11,
   "metadata": {},
   "outputs": [],
   "source": [
    "def preprocessing_char(s1_train, s2_train, stopwords, spelling_corrections):\n",
    "\n",
    "    # 去除句子中的脱敏数字***，替换成一\n",
    "    re_object = re.compile(r'\\*+')\n",
    "\n",
    "    s1_all = []\n",
    "    s2_all = []\n",
    "    all = []\n",
    "    for s1_, s2_ in zip(s1_train, s2_train):\n",
    "        s1 = re_object.sub(u\"十一\", s1_)\n",
    "        s2 = re_object.sub(u\"十一\", s2_)\n",
    "        spell_corr_s1 = transform_other_word(s1, spelling_corrections)\n",
    "        spell_corr_s2 = transform_other_word(s2, spelling_corrections)\n",
    "        spell_corr_s1 = list(spell_corr_s1)\n",
    "        spell_corr_s2 = list(spell_corr_s2)\n",
    "        \n",
    "        all.extend(spell_corr_s1)\n",
    "        all.extend(spell_corr_s2)\n",
    "        split_s1 = [i for i in spell_corr_s1 if i not in stopwords and i.strip() != '']\n",
    "        split_s2 = [i for i in spell_corr_s2 if i not in stopwords and i.strip() != '']\n",
    "\n",
    "        s1_all.append(split_s1)\n",
    "        s2_all.append(split_s2)\n",
    "    source_list = []\n",
    "    # source_list = list(set(all))\n",
    "    source_list.append('<UNK>')\n",
    "    source_list.append('<PAD>')\n",
    "    source_list.extend(list(set(all)))\n",
    "    char2id = {}\n",
    "    id2char = {}\n",
    "    for index, char in enumerate(source_list):\n",
    "        char2id[char] = index\n",
    "        id2char[index] = char\n",
    "\n",
    "    return s1_all, s2_all, char2id, id2char"
   ]
  },
  {
   "cell_type": "code",
   "execution_count": 12,
   "metadata": {},
   "outputs": [],
   "source": [
    "s1_train = train_all[\"s1\"].tolist()\n",
    "s2_train = train_all[\"s2\"].tolist()\n",
    "y_train = train_all[\"label\"].tolist()"
   ]
  },
  {
   "cell_type": "markdown",
   "metadata": {},
   "source": [
    "#### 获取对应的词表及词与id的映射"
   ]
  },
  {
   "cell_type": "code",
   "execution_count": 13,
   "metadata": {},
   "outputs": [],
   "source": [
    "s1_char_all, s2_char_all, char2id, id2char = preprocessing_char(s1_train, s2_train, stopwords, spelling_corrections)"
   ]
  },
  {
   "cell_type": "code",
   "execution_count": 14,
   "metadata": {},
   "outputs": [],
   "source": [
    "def make_word2id(data, word2id):\n",
    "    data2id = []\n",
    "    for word_list in data:\n",
    "        id_list = [word2id.get(i) if word2id.get(i) is not None else word2id.get('<PAD>') for i in word_list]\n",
    "        data2id.append(id_list)\n",
    "    return data2id"
   ]
  },
  {
   "cell_type": "code",
   "execution_count": 15,
   "metadata": {},
   "outputs": [],
   "source": [
    "def all_data_set(s1_all, s2_all, word2id, y_train, max_l=20):\n",
    "    pad = word2id['<PAD>']\n",
    "    all_data = []\n",
    "    s1_data_id = make_word2id(s1_all, word2id)\n",
    "    s2_data_id = make_word2id(s2_all, word2id)\n",
    "    s1_all_new = []\n",
    "    s2_all_new = []\n",
    "    y = []\n",
    "    for i in range(len(s1_data_id)):\n",
    "        if len(s1_data_id[i]) > max_l:\n",
    "            s1_set = s1_data_id[i][:max_l]\n",
    "        else:\n",
    "            s1_set = np.concatenate((s1_data_id[i], np.tile(pad, max_l - len(s1_data_id[i]))), axis=0)\n",
    "        if len(s2_data_id[i]) > max_l:\n",
    "            s2_set = s2_data_id[i][:max_l]\n",
    "        else:\n",
    "            s2_set = np.concatenate((s2_data_id[i], np.tile(pad, max_l - len(s2_data_id[i]))), axis=0)\n",
    "        y_set = [1,0] if y_train[i] == 0 else [0,1]\n",
    "        s1_all_new.append(s1_set)\n",
    "        s2_all_new.append(s2_set)\n",
    "        y.append(y_set)\n",
    "    return s1_all_new, s2_all_new, y"
   ]
  },
  {
   "cell_type": "markdown",
   "metadata": {},
   "source": [
    "#### 获取id形式表示的文本特征"
   ]
  },
  {
   "cell_type": "code",
   "execution_count": 16,
   "metadata": {},
   "outputs": [],
   "source": [
    "s1_char_id_all, s2_char_id_all, y_set = all_data_set(s1_char_all, s2_char_all, char2id, y_train, max_l=20)"
   ]
  },
  {
   "cell_type": "code",
   "execution_count": 17,
   "metadata": {},
   "outputs": [],
   "source": [
    "train_all[\"s1_char_all\"] = s1_char_all"
   ]
  },
  {
   "cell_type": "code",
   "execution_count": 18,
   "metadata": {},
   "outputs": [],
   "source": [
    "train_all[\"s2_char_all\"] = s2_char_all"
   ]
  },
  {
   "cell_type": "code",
   "execution_count": 19,
   "metadata": {},
   "outputs": [],
   "source": [
    "train_all[\"s1_char_id_all\"] = s1_char_id_all"
   ]
  },
  {
   "cell_type": "code",
   "execution_count": 20,
   "metadata": {},
   "outputs": [],
   "source": [
    "train_all[\"s2_char_id_all\"] = s2_char_id_all"
   ]
  },
  {
   "cell_type": "code",
   "execution_count": 21,
   "metadata": {},
   "outputs": [],
   "source": [
    "train_all[\"y_set\"] = y_set"
   ]
  },
  {
   "cell_type": "code",
   "execution_count": 22,
   "metadata": {},
   "outputs": [
    {
     "data": {
      "text/html": [
       "<div>\n",
       "<style scoped>\n",
       "    .dataframe tbody tr th:only-of-type {\n",
       "        vertical-align: middle;\n",
       "    }\n",
       "\n",
       "    .dataframe tbody tr th {\n",
       "        vertical-align: top;\n",
       "    }\n",
       "\n",
       "    .dataframe thead th {\n",
       "        text-align: right;\n",
       "    }\n",
       "</style>\n",
       "<table border=\"1\" class=\"dataframe\">\n",
       "  <thead>\n",
       "    <tr style=\"text-align: right;\">\n",
       "      <th></th>\n",
       "      <th>index</th>\n",
       "      <th>s1</th>\n",
       "      <th>s2</th>\n",
       "      <th>label</th>\n",
       "      <th>s1_char_all</th>\n",
       "      <th>s2_char_all</th>\n",
       "      <th>s1_char_id_all</th>\n",
       "      <th>s2_char_id_all</th>\n",
       "      <th>y_set</th>\n",
       "    </tr>\n",
       "  </thead>\n",
       "  <tbody>\n",
       "    <tr>\n",
       "      <th>0</th>\n",
       "      <td>31668</td>\n",
       "      <td>借呗借钱三个月每个月都要还吗</td>\n",
       "      <td>蚂蚁借呗干嘛都是每月二十号还</td>\n",
       "      <td>0</td>\n",
       "      <td>[借, 借, 钱, 三, 个, 月, 每, 个, 月, 都, 要]</td>\n",
       "      <td>[蚂, 蚁, 借, 干, 都, 是, 每, 月, 二, 十, 号]</td>\n",
       "      <td>[1208, 1208, 611, 846, 879, 310, 563, 879, 310...</td>\n",
       "      <td>[757, 227, 1208, 900, 870, 1305, 563, 310, 197...</td>\n",
       "      <td>[1, 0]</td>\n",
       "    </tr>\n",
       "    <tr>\n",
       "      <th>1</th>\n",
       "      <td>41666</td>\n",
       "      <td>使用花呗购物，自动全额付款会产生费用吗</td>\n",
       "      <td>花呗付款当时就退款了会产生费用吗</td>\n",
       "      <td>0</td>\n",
       "      <td>[使, 用, 花, 购, 物, 自, 动, 全, 额, 付, 款, 会, 产, 生, 费, 用]</td>\n",
       "      <td>[花, 付, 款, 当, 时, 退, 款, 会, 产, 生, 费, 用]</td>\n",
       "      <td>[1065, 414, 1294, 330, 1791, 2094, 446, 1657, ...</td>\n",
       "      <td>[1294, 1722, 215, 48, 1559, 800, 215, 1785, 19...</td>\n",
       "      <td>[1, 0]</td>\n",
       "    </tr>\n",
       "    <tr>\n",
       "      <th>2</th>\n",
       "      <td>26291</td>\n",
       "      <td>提前还借呗，借呗会关闭吗</td>\n",
       "      <td>蚂蚁借呗有额度会关闭吗</td>\n",
       "      <td>0</td>\n",
       "      <td>[提, 前, 借, 借, 会, 关]</td>\n",
       "      <td>[蚂, 蚁, 借, 有, 额, 度, 会, 关]</td>\n",
       "      <td>[1675, 180, 1208, 1208, 1785, 1263, 1, 1, 1, 1...</td>\n",
       "      <td>[757, 227, 1208, 1114, 1382, 2136, 1785, 1263,...</td>\n",
       "      <td>[1, 0]</td>\n",
       "    </tr>\n",
       "    <tr>\n",
       "      <th>3</th>\n",
       "      <td>29187</td>\n",
       "      <td>花呗收款从哪里上传证件</td>\n",
       "      <td>哪里上传证件信息申请花呗收款</td>\n",
       "      <td>1</td>\n",
       "      <td>[花, 收, 款, 哪, 传, 证, 件]</td>\n",
       "      <td>[哪, 传, 证, 件, 信, 息, 申, 请, 花, 收, 款]</td>\n",
       "      <td>[1294, 554, 215, 1489, 1777, 945, 2081, 1, 1, ...</td>\n",
       "      <td>[1489, 1777, 945, 2081, 648, 1348, 1120, 1484,...</td>\n",
       "      <td>[0, 1]</td>\n",
       "    </tr>\n",
       "    <tr>\n",
       "      <th>4</th>\n",
       "      <td>25416</td>\n",
       "      <td>我的退货款退回了花呗，可是花呗的钱我已经还过了。退回的钱去了哪里</td>\n",
       "      <td>我花呗钱还掉了 然后有退款退到花呗 现在钱去哪了呀</td>\n",
       "      <td>1</td>\n",
       "      <td>[退, 货, 款, 退, 回, 花, 可, 是, 花, 钱, 已, 经, 退, 回, 钱, ...</td>\n",
       "      <td>[花, 钱, 掉, 然, 有, 退, 款, 退, 到, 花, 现, 钱, 去, 哪]</td>\n",
       "      <td>[800, 524, 215, 800, 2154, 1294, 1935, 1305, 1...</td>\n",
       "      <td>[1294, 611, 515, 1720, 1114, 800, 215, 800, 14...</td>\n",
       "      <td>[0, 1]</td>\n",
       "    </tr>\n",
       "  </tbody>\n",
       "</table>\n",
       "</div>"
      ],
      "text/plain": [
       "   index                                s1                         s2  label  \\\n",
       "0  31668                    借呗借钱三个月每个月都要还吗             蚂蚁借呗干嘛都是每月二十号还      0   \n",
       "1  41666               使用花呗购物，自动全额付款会产生费用吗           花呗付款当时就退款了会产生费用吗      0   \n",
       "2  26291                      提前还借呗，借呗会关闭吗                蚂蚁借呗有额度会关闭吗      0   \n",
       "3  29187                       花呗收款从哪里上传证件             哪里上传证件信息申请花呗收款      1   \n",
       "4  25416  我的退货款退回了花呗，可是花呗的钱我已经还过了。退回的钱去了哪里  我花呗钱还掉了 然后有退款退到花呗 现在钱去哪了呀      1   \n",
       "\n",
       "                                         s1_char_all  \\\n",
       "0                  [借, 借, 钱, 三, 个, 月, 每, 个, 月, 都, 要]   \n",
       "1   [使, 用, 花, 购, 物, 自, 动, 全, 额, 付, 款, 会, 产, 生, 费, 用]   \n",
       "2                                 [提, 前, 借, 借, 会, 关]   \n",
       "3                              [花, 收, 款, 哪, 传, 证, 件]   \n",
       "4  [退, 货, 款, 退, 回, 花, 可, 是, 花, 钱, 已, 经, 退, 回, 钱, ...   \n",
       "\n",
       "                                  s2_char_all  \\\n",
       "0           [蚂, 蚁, 借, 干, 都, 是, 每, 月, 二, 十, 号]   \n",
       "1        [花, 付, 款, 当, 时, 退, 款, 会, 产, 生, 费, 用]   \n",
       "2                    [蚂, 蚁, 借, 有, 额, 度, 会, 关]   \n",
       "3           [哪, 传, 证, 件, 信, 息, 申, 请, 花, 收, 款]   \n",
       "4  [花, 钱, 掉, 然, 有, 退, 款, 退, 到, 花, 现, 钱, 去, 哪]   \n",
       "\n",
       "                                      s1_char_id_all  \\\n",
       "0  [1208, 1208, 611, 846, 879, 310, 563, 879, 310...   \n",
       "1  [1065, 414, 1294, 330, 1791, 2094, 446, 1657, ...   \n",
       "2  [1675, 180, 1208, 1208, 1785, 1263, 1, 1, 1, 1...   \n",
       "3  [1294, 554, 215, 1489, 1777, 945, 2081, 1, 1, ...   \n",
       "4  [800, 524, 215, 800, 2154, 1294, 1935, 1305, 1...   \n",
       "\n",
       "                                      s2_char_id_all   y_set  \n",
       "0  [757, 227, 1208, 900, 870, 1305, 563, 310, 197...  [1, 0]  \n",
       "1  [1294, 1722, 215, 48, 1559, 800, 215, 1785, 19...  [1, 0]  \n",
       "2  [757, 227, 1208, 1114, 1382, 2136, 1785, 1263,...  [1, 0]  \n",
       "3  [1489, 1777, 945, 2081, 648, 1348, 1120, 1484,...  [0, 1]  \n",
       "4  [1294, 611, 515, 1720, 1114, 800, 215, 800, 14...  [0, 1]  "
      ]
     },
     "execution_count": 22,
     "metadata": {},
     "output_type": "execute_result"
    }
   ],
   "source": [
    "train_all.head()"
   ]
  },
  {
   "cell_type": "code",
   "execution_count": 23,
   "metadata": {},
   "outputs": [],
   "source": [
    "# 将数据存到一个大列表里面，格式是[[s1,s2,y],[s1,s2,y],[s1,s2,y].......]\n",
    "all_data = []\n",
    "for i in range(len(s1_char_id_all)):\n",
    "    all_data.append([s1_char_id_all[i],s2_char_id_all[i],y_set[i]])"
   ]
  },
  {
   "cell_type": "code",
   "execution_count": 24,
   "metadata": {},
   "outputs": [],
   "source": [
    "ratio = int(len(all_data)*0.8)\n",
    "train_data = all_data[:ratio]\n",
    "test_data = all_data[ratio:]"
   ]
  },
  {
   "cell_type": "code",
   "execution_count": 25,
   "metadata": {},
   "outputs": [],
   "source": [
    "# 将数据存入pickle中\n",
    "with open(\"char_data.pk\", 'wb') as f1:\n",
    "    pickle.dump((train_data,test_data,char2id,id2char), f1)"
   ]
  },
  {
   "cell_type": "code",
   "execution_count": null,
   "metadata": {},
   "outputs": [],
   "source": []
  },
  {
   "cell_type": "code",
   "execution_count": null,
   "metadata": {},
   "outputs": [],
   "source": []
  },
  {
   "cell_type": "code",
   "execution_count": null,
   "metadata": {},
   "outputs": [],
   "source": []
  }
 ],
 "metadata": {
  "kernelspec": {
   "display_name": "Python 3",
   "language": "python",
   "name": "python3"
  },
  "language_info": {
   "codemirror_mode": {
    "name": "ipython",
    "version": 3
   },
   "file_extension": ".py",
   "mimetype": "text/x-python",
   "name": "python",
   "nbconvert_exporter": "python",
   "pygments_lexer": "ipython3",
   "version": "3.7.3"
  }
 },
 "nbformat": 4,
 "nbformat_minor": 2
}
